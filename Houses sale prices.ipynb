{
 "cells": [
  {
   "cell_type": "markdown",
   "metadata": {
    "collapsed": true
   },
   "source": [
    "# Predicting House Sale Prices\n",
    "\n",
    "- **Dataset**: Sales from 2006-2010 in the city of Ames, Iowa, USA\n",
    "\n",
    "- **data collection** info: [link](https://doi.org/10.1080/10691898.2011.11889627) \n",
    "The data set contains 2930 observations and a large number of explanatory variables (23 nominal, 23 ordinal, 14 discrete, and 20 continuous)\n",
    "\n",
    "- **columns info**:[link](https://s3.amazonaws.com/dq-content/307/data_description.txt)\n",
    "\n",
    "Using the sales data from the past we will try to establish a model that can predict the price for houses. An exemple of this project is [available](https://github.com/dataquestio/solutions/blob/master/Mission240Solutions.ipynb).\n",
    "\n",
    "The project will be done as follow:\n",
    "- data cleaning and features engineering \n",
    "- features selection\n",
    "- train\n",
    "- test \n",
    "- production (in the future when I know how to do that)\n"
   ]
  },
  {
   "cell_type": "markdown",
   "metadata": {},
   "source": [
    "## Data preparation"
   ]
  },
  {
   "cell_type": "code",
   "execution_count": 374,
   "metadata": {},
   "outputs": [],
   "source": [
    "import pandas as pd\n",
    "pd.options.display.max_rows = 999\n",
    "import matplotlib.pyplot as plt\n",
    "%matplotlib inline\n",
    "import math\n",
    "import numpy as np\n",
    "from sklearn.linear_model import LinearRegression\n",
    "from sklearn.metrics import mean_squared_error\n",
    "import seaborn as sns\n",
    "from sklearn.model_selection import train_test_split"
   ]
  },
  {
   "cell_type": "code",
   "execution_count": 375,
   "metadata": {},
   "outputs": [],
   "source": [
    "#import csv\n",
    "raw_sales=pd.read_csv('AmesHousing.tsv',delimiter='\\t')"
   ]
  },
  {
   "cell_type": "markdown",
   "metadata": {},
   "source": [
    "###### train validation test sets 60 20 20%\n",
    "\n",
    "The validation set is used to validate the model, once a final model has been created will be tested on a test set for real measure."
   ]
  },
  {
   "cell_type": "code",
   "execution_count": 376,
   "metadata": {},
   "outputs": [],
   "source": [
    "def split_dataset(df):\n",
    "    #split train test set \n",
    "    train,test_validation = train_test_split(raw_sales, test_size = 0.4, random_state = 0)\n",
    "\n",
    "    #split test set into the validation and test set\n",
    "    validation, test = train_test_split (test_validation,test_size=0.5, random_state=0)\n",
    "    \n",
    "    return train, validation, test"
   ]
  },
  {
   "cell_type": "code",
   "execution_count": 377,
   "metadata": {},
   "outputs": [
    {
     "name": "stdout",
     "output_type": "stream",
     "text": [
      "(1758, 82) (586, 82) (586, 82)\n"
     ]
    }
   ],
   "source": [
    "train, validation, test = split_dataset(raw_sales)\n",
    "\n",
    "print(train.shape, validation.shape, test.shape)"
   ]
  },
  {
   "cell_type": "markdown",
   "metadata": {},
   "source": [
    "###### General functions"
   ]
  },
  {
   "cell_type": "code",
   "execution_count": 378,
   "metadata": {},
   "outputs": [],
   "source": [
    "#it will contain every transfo we do on the training set will be done also to the test and validation set\n",
    "def transform_features(df):\n",
    "    return train"
   ]
  },
  {
   "cell_type": "code",
   "execution_count": 379,
   "metadata": {},
   "outputs": [],
   "source": [
    "def select_features(df):\n",
    "    return df[['Gr Liv Area','SalePrice']]"
   ]
  },
  {
   "cell_type": "code",
   "execution_count": 380,
   "metadata": {},
   "outputs": [],
   "source": [
    "def train_and_test(df, features,target=['SalePrice']):\n",
    "    \n",
    "    lr= LinearRegression()\n",
    "    X = df[features]\n",
    "    y= df[target]\n",
    "    lr.fit(X,y)\n",
    "    train_predictions = lr.predict(X)\n",
    "    test_predictions = lr.predict(test[features])\n",
    "    \n",
    "    rmse = np.sqrt(mean_squared_error(test_predictions, test[target]))\n",
    "    \n",
    "    print('score train set:',lr.score(X,y))\n",
    "    print('score test set:', lr.score(test[features],test[target]))\n",
    "    print('rmse:', rmse)\n",
    "    \n",
    "    return rmse"
   ]
  },
  {
   "cell_type": "markdown",
   "metadata": {},
   "source": [
    "### Crude model \n",
    "For a linear regression, it needs data without gap and numeric\n",
    "- let's build a model without any features enginnering to have our baseline to quantify our improvement after"
   ]
  },
  {
   "cell_type": "code",
   "execution_count": 381,
   "metadata": {},
   "outputs": [],
   "source": [
    "numeric_cols = train.select_dtypes('number').columns"
   ]
  },
  {
   "cell_type": "code",
   "execution_count": 382,
   "metadata": {},
   "outputs": [
    {
     "data": {
      "text/plain": [
       "<matplotlib.axes._subplots.AxesSubplot at 0x1a3aee5150>"
      ]
     },
     "execution_count": 382,
     "metadata": {},
     "output_type": "execute_result"
    },
    {
     "data": {
      "image/png": "[encoded data removed]",
      "text/plain": [
       "<Figure size 432x288 with 1 Axes>"
      ]
     },
     "metadata": {
      "needs_background": "light"
     },
     "output_type": "display_data"
    }
   ],
   "source": [
    "train[numeric_cols].corr()['SalePrice'].abs().sort_values().tail(15).plot.barh()"
   ]
  },
  {
   "cell_type": "markdown",
   "metadata": {},
   "source": [
    "- In the plot below we see that overall quality feature has high correlation Overall Qual: \"Rates the overall material and finish of the house\"\n",
    "\n",
    "IMO we should not use for the model has it  already leaks toward the target column the price and is not a continuous feature\n",
    "\n",
    "- The next is Gr Liv Area : \"Above grade (ground) living area square feet\" so how big is the house above grand explain like 65% of the SalePrice. \n",
    "\n",
    "=>**Let'us this feature as our baseline model.**\n"
   ]
  },
  {
   "cell_type": "code",
   "execution_count": 446,
   "metadata": {
    "scrolled": true
   },
   "outputs": [
    {
     "name": "stdout",
     "output_type": "stream",
     "text": [
      "score train set: 0.4856574021331867\n",
      "score test set: 0.5583901646922056\n",
      "rmse: 59093.76159983195\n"
     ]
    },
    {
     "data": {
      "text/plain": [
       "59093.76159983195"
      ]
     },
     "execution_count": 446,
     "metadata": {},
     "output_type": "execute_result"
    }
   ],
   "source": [
    "#baseline score and rmse of our linear model \n",
    "train_and_test(train,['Gr Liv Area'])"
   ]
  },
  {
   "cell_type": "markdown",
   "metadata": {},
   "source": [
    "\n",
    "The results are not super good, let's see if we can improve them with some feature engineering or by adding more features\n",
    "there is a correlation with the garage information so we should try to investigate a bit there"
   ]
  },
  {
   "cell_type": "markdown",
   "metadata": {},
   "source": [
    "## Features Engineering (and data cleaning)\n",
    "- remove any columns which:\n",
    "\n",
    "    - has more than 5% of missing value \n",
    "    - can leak data info the price such as the year the sale took place or the overall condition \n",
    "- transform non numeric categories to something exploitable (dummy coding)\n",
    "- create new features such as age house or when was it last refurbished?"
   ]
  },
  {
   "cell_type": "code",
   "execution_count": 384,
   "metadata": {},
   "outputs": [
    {
     "data": {
      "text/plain": [
       "Index(['Order', 'PID', 'MS SubClass', 'Lot Frontage', 'Lot Area',\n",
       "       'Overall Qual', 'Overall Cond', 'Year Built', 'Year Remod/Add',\n",
       "       'Mas Vnr Area', 'BsmtFin SF 1', 'BsmtFin SF 2', 'Bsmt Unf SF',\n",
       "       'Total Bsmt SF', '1st Flr SF', '2nd Flr SF', 'Low Qual Fin SF',\n",
       "       'Gr Liv Area', 'Bsmt Full Bath', 'Bsmt Half Bath', 'Full Bath',\n",
       "       'Half Bath', 'Bedroom AbvGr', 'Kitchen AbvGr', 'TotRms AbvGrd',\n",
       "       'Fireplaces', 'Garage Yr Blt', 'Garage Cars', 'Garage Area',\n",
       "       'Wood Deck SF', 'Open Porch SF', 'Enclosed Porch', '3Ssn Porch',\n",
       "       'Screen Porch', 'Pool Area', 'Misc Val', 'Mo Sold', 'Yr Sold',\n",
       "       'SalePrice'],\n",
       "      dtype='object')"
      ]
     },
     "execution_count": 384,
     "metadata": {},
     "output_type": "execute_result"
    }
   ],
   "source": [
    "numeric_cols"
   ]
  },
  {
   "cell_type": "code",
   "execution_count": 385,
   "metadata": {},
   "outputs": [
    {
     "data": {
      "text/plain": [
       "Text(0.5, 0, 'correlation')"
      ]
     },
     "execution_count": 385,
     "metadata": {},
     "output_type": "execute_result"
    },
    {
     "data": {
      "image/png": "[encoded data removed]",
      "text/plain": [
       "<Figure size 720x720 with 1 Axes>"
      ]
     },
     "metadata": {
      "needs_background": "light"
     },
     "output_type": "display_data"
    }
   ],
   "source": [
    "raw_sales[numeric_cols].corr().abs()['SalePrice'].sort_values().tail(25).plot.barh(figsize=(10,10))\n",
    "plt.title('Correlation with target column SalePrice')\n",
    "plt.xlabel('correlation')"
   ]
  },
  {
   "cell_type": "markdown",
   "metadata": {},
   "source": [
    "## Features Engineering (and data cleaning)\n",
    "We will:\n",
    "- remove any columns which :\n",
    "        - has more than 5% of missing value \n",
    "        - can leak data info the price such as the year the sale took place or the overall condition \n",
    "- transform non numeric categories to something exploitable (dummy coding)\n",
    "- create new features such as age house or when was it last refurbished?"
   ]
  },
  {
   "cell_type": "code",
   "execution_count": 386,
   "metadata": {},
   "outputs": [],
   "source": [
    "#what columns have more than 5% missing values\n",
    "lot_missing_values=raw_sales.isnull().sum() / raw_sales.shape[0] \n",
    "    #list columns\n",
    "col_lot_missing_values=raw_sales.columns[lot_missing_values > 0.05]\n",
    "    #drop columns\n",
    "raw_sales.drop(col_lot_missing_values,axis=1,inplace=True)"
   ]
  },
  {
   "cell_type": "markdown",
   "metadata": {},
   "source": [
    "- among the rest of the missing value, \n",
    "    - create feature for the age of the house and how long it has been since the last modification /addition \n",
    "    - Mas Vnr  Area, 23 where there is none so we can just keep for the categorical and for the area we put 0 as it is the mode of the col.\n",
    "    - Mas Vnr  Type, as we put 0 In the area it means we consider that there is no Mas Vnr so we fill up these nan with 'None'\n",
    "    - Basement: the house where there are no basement: value to 'no_basement' the rest we drop (less than 5)\n",
    "    \n",
    "    - then let drops the rest as it is only a few rows (15 so less than 0.5% of the entier dataset)"
   ]
  },
  {
   "cell_type": "code",
   "execution_count": 387,
   "metadata": {},
   "outputs": [],
   "source": [
    "raw_sales['Mas Vnr Type'].fillna('None',inplace=True)\n",
    "raw_sales['Mas Vnr Area'].fillna(0,inplace=True)\n",
    "\n",
    "raw_sales[['Bsmt Qual','Bsmt Cond']]= raw_sales[['Bsmt Qual','Bsmt Cond']].fillna('None')\n",
    "\n",
    "#fixing basement related columns\n",
    "#find the index of where there no basement => means also no exposure\n",
    "index = raw_sales[raw_sales['Bsmt Qual']=='None']['Bsmt Exposure'].index\n",
    "#then fix the value from 'nan' to 'no_basement'\n",
    "raw_sales.loc[index,['Bsmt Exposure','BsmtFin Type 1','BsmtFin Type 2']]='None'\n",
    "\n",
    "\n",
    "raw_sales.dropna(inplace=True)\n",
    "\n",
    "#create new features\n",
    "raw_sales['age_when_sold'] = raw_sales['Yr Sold'] - raw_sales['Year Built']\n",
    "raw_sales['last_modif_add'] = raw_sales['Yr Sold'] - raw_sales['Year Remod/Add']\n",
    "\n",
    "raw_sales.drop(['Year Built','Year Remod/Add'],inplace=True,axis=1)\n"
   ]
  },
  {
   "cell_type": "markdown",
   "metadata": {},
   "source": [
    "- update the numeric cols list "
   ]
  },
  {
   "cell_type": "code",
   "execution_count": 388,
   "metadata": {},
   "outputs": [],
   "source": [
    "numeric_cols = raw_sales.select_dtypes('number').columns"
   ]
  },
  {
   "cell_type": "markdown",
   "metadata": {},
   "source": [
    "- we see inthe that there are some negative values in the columns age_when_sold and last_modif_add"
   ]
  },
  {
   "cell_type": "code",
   "execution_count": 389,
   "metadata": {},
   "outputs": [
    {
     "data": {
      "text/html": [
       "<div>\n",
       "<style scoped>\n",
       "    .dataframe tbody tr th:only-of-type {\n",
       "        vertical-align: middle;\n",
       "    }\n",
       "\n",
       "    .dataframe tbody tr th {\n",
       "        vertical-align: top;\n",
       "    }\n",
       "\n",
       "    .dataframe thead th {\n",
       "        text-align: right;\n",
       "    }\n",
       "</style>\n",
       "<table border=\"1\" class=\"dataframe\">\n",
       "  <thead>\n",
       "    <tr style=\"text-align: right;\">\n",
       "      <th></th>\n",
       "      <th>Order</th>\n",
       "      <th>PID</th>\n",
       "      <th>MS SubClass</th>\n",
       "      <th>Lot Area</th>\n",
       "      <th>Overall Qual</th>\n",
       "      <th>Overall Cond</th>\n",
       "      <th>Mas Vnr Area</th>\n",
       "      <th>BsmtFin SF 1</th>\n",
       "      <th>BsmtFin SF 2</th>\n",
       "      <th>Bsmt Unf SF</th>\n",
       "      <th>...</th>\n",
       "      <th>Enclosed Porch</th>\n",
       "      <th>3Ssn Porch</th>\n",
       "      <th>Screen Porch</th>\n",
       "      <th>Pool Area</th>\n",
       "      <th>Misc Val</th>\n",
       "      <th>Mo Sold</th>\n",
       "      <th>Yr Sold</th>\n",
       "      <th>SalePrice</th>\n",
       "      <th>age_when_sold</th>\n",
       "      <th>last_modif_add</th>\n",
       "    </tr>\n",
       "  </thead>\n",
       "  <tbody>\n",
       "    <tr>\n",
       "      <th>count</th>\n",
       "      <td>2922.000000</td>\n",
       "      <td>2.922000e+03</td>\n",
       "      <td>2922.000000</td>\n",
       "      <td>2922.000000</td>\n",
       "      <td>2922.000000</td>\n",
       "      <td>2922.000000</td>\n",
       "      <td>2922.000000</td>\n",
       "      <td>2922.000000</td>\n",
       "      <td>2922.000000</td>\n",
       "      <td>2922.000000</td>\n",
       "      <td>...</td>\n",
       "      <td>2922.000000</td>\n",
       "      <td>2922.000000</td>\n",
       "      <td>2922.000000</td>\n",
       "      <td>2922.000000</td>\n",
       "      <td>2922.000000</td>\n",
       "      <td>2922.000000</td>\n",
       "      <td>2922.000000</td>\n",
       "      <td>2922.000000</td>\n",
       "      <td>2922.000000</td>\n",
       "      <td>2922.000000</td>\n",
       "    </tr>\n",
       "    <tr>\n",
       "      <th>mean</th>\n",
       "      <td>1465.493155</td>\n",
       "      <td>7.143226e+08</td>\n",
       "      <td>57.424709</td>\n",
       "      <td>10136.074606</td>\n",
       "      <td>6.095483</td>\n",
       "      <td>5.562971</td>\n",
       "      <td>101.145791</td>\n",
       "      <td>443.117728</td>\n",
       "      <td>49.677618</td>\n",
       "      <td>558.701574</td>\n",
       "      <td>...</td>\n",
       "      <td>23.002053</td>\n",
       "      <td>2.599589</td>\n",
       "      <td>16.045859</td>\n",
       "      <td>2.249487</td>\n",
       "      <td>50.773785</td>\n",
       "      <td>6.218344</td>\n",
       "      <td>2007.790212</td>\n",
       "      <td>180746.145791</td>\n",
       "      <td>36.461328</td>\n",
       "      <td>23.556810</td>\n",
       "    </tr>\n",
       "    <tr>\n",
       "      <th>std</th>\n",
       "      <td>846.016295</td>\n",
       "      <td>1.887232e+08</td>\n",
       "      <td>42.671191</td>\n",
       "      <td>7860.489650</td>\n",
       "      <td>1.410864</td>\n",
       "      <td>1.112149</td>\n",
       "      <td>178.777020</td>\n",
       "      <td>455.589814</td>\n",
       "      <td>169.169697</td>\n",
       "      <td>438.954197</td>\n",
       "      <td>...</td>\n",
       "      <td>64.121675</td>\n",
       "      <td>25.175369</td>\n",
       "      <td>56.157863</td>\n",
       "      <td>35.645700</td>\n",
       "      <td>567.113099</td>\n",
       "      <td>2.714959</td>\n",
       "      <td>1.316995</td>\n",
       "      <td>79919.670376</td>\n",
       "      <td>30.284490</td>\n",
       "      <td>20.856785</td>\n",
       "    </tr>\n",
       "    <tr>\n",
       "      <th>min</th>\n",
       "      <td>1.000000</td>\n",
       "      <td>5.263011e+08</td>\n",
       "      <td>20.000000</td>\n",
       "      <td>1300.000000</td>\n",
       "      <td>1.000000</td>\n",
       "      <td>1.000000</td>\n",
       "      <td>0.000000</td>\n",
       "      <td>0.000000</td>\n",
       "      <td>0.000000</td>\n",
       "      <td>0.000000</td>\n",
       "      <td>...</td>\n",
       "      <td>0.000000</td>\n",
       "      <td>0.000000</td>\n",
       "      <td>0.000000</td>\n",
       "      <td>0.000000</td>\n",
       "      <td>0.000000</td>\n",
       "      <td>1.000000</td>\n",
       "      <td>2006.000000</td>\n",
       "      <td>12789.000000</td>\n",
       "      <td>-1.000000</td>\n",
       "      <td>-2.000000</td>\n",
       "    </tr>\n",
       "    <tr>\n",
       "      <th>25%</th>\n",
       "      <td>733.250000</td>\n",
       "      <td>5.284770e+08</td>\n",
       "      <td>20.000000</td>\n",
       "      <td>7438.500000</td>\n",
       "      <td>5.000000</td>\n",
       "      <td>5.000000</td>\n",
       "      <td>0.000000</td>\n",
       "      <td>0.000000</td>\n",
       "      <td>0.000000</td>\n",
       "      <td>219.000000</td>\n",
       "      <td>...</td>\n",
       "      <td>0.000000</td>\n",
       "      <td>0.000000</td>\n",
       "      <td>0.000000</td>\n",
       "      <td>0.000000</td>\n",
       "      <td>0.000000</td>\n",
       "      <td>4.000000</td>\n",
       "      <td>2007.000000</td>\n",
       "      <td>129500.000000</td>\n",
       "      <td>7.000000</td>\n",
       "      <td>4.000000</td>\n",
       "    </tr>\n",
       "    <tr>\n",
       "      <th>50%</th>\n",
       "      <td>1464.500000</td>\n",
       "      <td>5.354532e+08</td>\n",
       "      <td>50.000000</td>\n",
       "      <td>9432.000000</td>\n",
       "      <td>6.000000</td>\n",
       "      <td>5.000000</td>\n",
       "      <td>0.000000</td>\n",
       "      <td>371.000000</td>\n",
       "      <td>0.000000</td>\n",
       "      <td>465.500000</td>\n",
       "      <td>...</td>\n",
       "      <td>0.000000</td>\n",
       "      <td>0.000000</td>\n",
       "      <td>0.000000</td>\n",
       "      <td>0.000000</td>\n",
       "      <td>0.000000</td>\n",
       "      <td>6.000000</td>\n",
       "      <td>2008.000000</td>\n",
       "      <td>160000.000000</td>\n",
       "      <td>34.000000</td>\n",
       "      <td>15.000000</td>\n",
       "    </tr>\n",
       "    <tr>\n",
       "      <th>75%</th>\n",
       "      <td>2197.750000</td>\n",
       "      <td>9.071801e+08</td>\n",
       "      <td>70.000000</td>\n",
       "      <td>11555.250000</td>\n",
       "      <td>7.000000</td>\n",
       "      <td>6.000000</td>\n",
       "      <td>162.750000</td>\n",
       "      <td>734.750000</td>\n",
       "      <td>0.000000</td>\n",
       "      <td>801.000000</td>\n",
       "      <td>...</td>\n",
       "      <td>0.000000</td>\n",
       "      <td>0.000000</td>\n",
       "      <td>0.000000</td>\n",
       "      <td>0.000000</td>\n",
       "      <td>0.000000</td>\n",
       "      <td>8.000000</td>\n",
       "      <td>2009.000000</td>\n",
       "      <td>213497.500000</td>\n",
       "      <td>54.000000</td>\n",
       "      <td>43.000000</td>\n",
       "    </tr>\n",
       "    <tr>\n",
       "      <th>max</th>\n",
       "      <td>2930.000000</td>\n",
       "      <td>1.007100e+09</td>\n",
       "      <td>190.000000</td>\n",
       "      <td>215245.000000</td>\n",
       "      <td>10.000000</td>\n",
       "      <td>9.000000</td>\n",
       "      <td>1600.000000</td>\n",
       "      <td>5644.000000</td>\n",
       "      <td>1526.000000</td>\n",
       "      <td>2336.000000</td>\n",
       "      <td>...</td>\n",
       "      <td>1012.000000</td>\n",
       "      <td>508.000000</td>\n",
       "      <td>576.000000</td>\n",
       "      <td>800.000000</td>\n",
       "      <td>17000.000000</td>\n",
       "      <td>12.000000</td>\n",
       "      <td>2010.000000</td>\n",
       "      <td>755000.000000</td>\n",
       "      <td>136.000000</td>\n",
       "      <td>60.000000</td>\n",
       "    </tr>\n",
       "  </tbody>\n",
       "</table>\n",
       "<p>8 rows × 37 columns</p>\n",
       "</div>"
      ],
      "text/plain": [
       "             Order           PID  MS SubClass       Lot Area  Overall Qual  \\\n",
       "count  2922.000000  2.922000e+03  2922.000000    2922.000000   2922.000000   \n",
       "mean   1465.493155  7.143226e+08    57.424709   10136.074606      6.095483   \n",
       "std     846.016295  1.887232e+08    42.671191    7860.489650      1.410864   \n",
       "min       1.000000  5.263011e+08    20.000000    1300.000000      1.000000   \n",
       "25%     733.250000  5.284770e+08    20.000000    7438.500000      5.000000   \n",
       "50%    1464.500000  5.354532e+08    50.000000    9432.000000      6.000000   \n",
       "75%    2197.750000  9.071801e+08    70.000000   11555.250000      7.000000   \n",
       "max    2930.000000  1.007100e+09   190.000000  215245.000000     10.000000   \n",
       "\n",
       "       Overall Cond  Mas Vnr Area  BsmtFin SF 1  BsmtFin SF 2  Bsmt Unf SF  \\\n",
       "count   2922.000000   2922.000000   2922.000000   2922.000000  2922.000000   \n",
       "mean       5.562971    101.145791    443.117728     49.677618   558.701574   \n",
       "std        1.112149    178.777020    455.589814    169.169697   438.954197   \n",
       "min        1.000000      0.000000      0.000000      0.000000     0.000000   \n",
       "25%        5.000000      0.000000      0.000000      0.000000   219.000000   \n",
       "50%        5.000000      0.000000    371.000000      0.000000   465.500000   \n",
       "75%        6.000000    162.750000    734.750000      0.000000   801.000000   \n",
       "max        9.000000   1600.000000   5644.000000   1526.000000  2336.000000   \n",
       "\n",
       "       ...  Enclosed Porch   3Ssn Porch  Screen Porch    Pool Area  \\\n",
       "count  ...     2922.000000  2922.000000   2922.000000  2922.000000   \n",
       "mean   ...       23.002053     2.599589     16.045859     2.249487   \n",
       "std    ...       64.121675    25.175369     56.157863    35.645700   \n",
       "min    ...        0.000000     0.000000      0.000000     0.000000   \n",
       "25%    ...        0.000000     0.000000      0.000000     0.000000   \n",
       "50%    ...        0.000000     0.000000      0.000000     0.000000   \n",
       "75%    ...        0.000000     0.000000      0.000000     0.000000   \n",
       "max    ...     1012.000000   508.000000    576.000000   800.000000   \n",
       "\n",
       "           Misc Val      Mo Sold      Yr Sold      SalePrice  age_when_sold  \\\n",
       "count   2922.000000  2922.000000  2922.000000    2922.000000    2922.000000   \n",
       "mean      50.773785     6.218344  2007.790212  180746.145791      36.461328   \n",
       "std      567.113099     2.714959     1.316995   79919.670376      30.284490   \n",
       "min        0.000000     1.000000  2006.000000   12789.000000      -1.000000   \n",
       "25%        0.000000     4.000000  2007.000000  129500.000000       7.000000   \n",
       "50%        0.000000     6.000000  2008.000000  160000.000000      34.000000   \n",
       "75%        0.000000     8.000000  2009.000000  213497.500000      54.000000   \n",
       "max    17000.000000    12.000000  2010.000000  755000.000000     136.000000   \n",
       "\n",
       "       last_modif_add  \n",
       "count     2922.000000  \n",
       "mean        23.556810  \n",
       "std         20.856785  \n",
       "min         -2.000000  \n",
       "25%          4.000000  \n",
       "50%         15.000000  \n",
       "75%         43.000000  \n",
       "max         60.000000  \n",
       "\n",
       "[8 rows x 37 columns]"
      ]
     },
     "execution_count": 389,
     "metadata": {},
     "output_type": "execute_result"
    }
   ],
   "source": [
    "raw_sales[numeric_cols].describe()"
   ]
  },
  {
   "cell_type": "code",
   "execution_count": 390,
   "metadata": {},
   "outputs": [
    {
     "data": {
      "text/plain": [
       "2180   -1\n",
       "Name: age_when_sold, dtype: int64"
      ]
     },
     "execution_count": 390,
     "metadata": {},
     "output_type": "execute_result"
    }
   ],
   "source": [
    "raw_sales[raw_sales['age_when_sold']<0]['age_when_sold']"
   ]
  },
  {
   "cell_type": "code",
   "execution_count": 391,
   "metadata": {},
   "outputs": [
    {
     "data": {
      "text/plain": [
       "1702   -1\n",
       "2180   -2\n",
       "2181   -1\n",
       "Name: last_modif_add, dtype: int64"
      ]
     },
     "execution_count": 391,
     "metadata": {},
     "output_type": "execute_result"
    }
   ],
   "source": [
    "raw_sales[raw_sales['last_modif_add']<0]['last_modif_add']"
   ]
  },
  {
   "cell_type": "code",
   "execution_count": 392,
   "metadata": {},
   "outputs": [],
   "source": [
    "#drop the rows where ages are negatives\n",
    "raw_sales.drop(index=[2180,1702,2181],inplace=True,axis=0)"
   ]
  },
  {
   "cell_type": "code",
   "execution_count": 410,
   "metadata": {},
   "outputs": [],
   "source": [
    "#reset train validation test dataset\n",
    "train, validation, test = split_dataset(raw_sales)\n",
    "test=pd.get_dummies(test)"
   ]
  },
  {
   "cell_type": "markdown",
   "metadata": {},
   "source": [
    "#### Collinerarity with dummies\n",
    "\n",
    "among the cols that can predict the target col, are they ones with colinearity\n",
    "     -identify the col with high corr with sales price, extract these columns then recompute the correlation among them to identify colinearity"
   ]
  },
  {
   "cell_type": "code",
   "execution_count": 394,
   "metadata": {},
   "outputs": [],
   "source": [
    "df_dummies=pd.get_dummies(train)"
   ]
  },
  {
   "cell_type": "code",
   "execution_count": 395,
   "metadata": {},
   "outputs": [],
   "source": [
    "high_corr_cols=df_dummies.select_dtypes('number').corr().abs()['SalePrice'][df_dummies.select_dtypes('number').corr().abs()['SalePrice'] > 0.4].index.sort_values()"
   ]
  },
  {
   "cell_type": "code",
   "execution_count": 396,
   "metadata": {},
   "outputs": [
    {
     "data": {
      "text/plain": [
       "<matplotlib.axes._subplots.AxesSubplot at 0x1a3b200550>"
      ]
     },
     "execution_count": 396,
     "metadata": {},
     "output_type": "execute_result"
    },
    {
     "data": {
      "image/png": "[encoded data removed]",
      "text/plain": [
       "<Figure size 720x720 with 2 Axes>"
      ]
     },
     "metadata": {
      "needs_background": "light"
     },
     "output_type": "display_data"
    }
   ],
   "source": [
    "plt.figure(figsize=(10,10))\n",
    "\n",
    "high_corr=df_dummies[high_corr_cols].corr().abs()\n",
    "mask = np.zeros_like(high_corr)\n",
    "mask[np.triu_indices_from(mask)] = True\n",
    "sns.heatmap(high_corr,\n",
    "            linewidths=.5,\n",
    "            \n",
    "            mask=mask)"
   ]
  },
  {
   "cell_type": "code",
   "execution_count": 427,
   "metadata": {},
   "outputs": [
    {
     "name": "stdout",
     "output_type": "stream",
     "text": [
      "['Overall Qual', 'Gr Liv Area', 'Garage Area', 'Garage Cars', 'Total Bsmt SF', '1st Flr SF', 'Exter Qual_TA', 'Bsmt Qual_Ex', 'age_when_sold', 'Full Bath', 'Kitchen Qual_Ex', 'Kitchen Qual_TA', 'last_modif_add', 'Foundation_PConc', 'Mas Vnr Area', 'TotRms AbvGrd', 'Fireplaces', 'Exter Qual_Ex', 'BsmtFin Type 1_GLQ', 'Exter Qual_Gd', 'Heating QC_Ex', 'Neighborhood_NridgHt', 'Bsmt Qual_TA', 'BsmtFin SF 1']\n"
     ]
    }
   ],
   "source": [
    "#model with dummies\n",
    "list_cols= df_dummies.select_dtypes('number').corr().abs()['SalePrice'][df_dummies.select_dtypes('number').corr().abs()['SalePrice'] > 0.4].sort_values(ascending=False).index\n",
    "list_cols.drop('SalePrice')\n",
    "list_cols = list(list_cols[1:-1])\n",
    "print(list_cols)"
   ]
  },
  {
   "cell_type": "code",
   "execution_count": 445,
   "metadata": {},
   "outputs": [
    {
     "name": "stdout",
     "output_type": "stream",
     "text": [
      "score train set: 0.8470726361658182\n",
      "score test set: 0.8754405851834446\n",
      "rmse: 31384.162715568724\n"
     ]
    },
    {
     "data": {
      "text/plain": [
       "31384.162715568724"
      ]
     },
     "execution_count": 445,
     "metadata": {},
     "output_type": "execute_result"
    }
   ],
   "source": [
    "train_and_test(df_dummies, ['Overall Qual','Gr Liv Area', 'Total Bsmt SF', \n",
    "                            '1st Flr SF', 'Exter Qual_TA', 'Bsmt Qual_Ex', 'age_when_sold', \n",
    "                            'Full Bath', 'Kitchen Qual_Ex', 'last_modif_add', \n",
    "                            'Foundation_PConc', 'Mas Vnr Area', 'TotRms AbvGrd', 'Fireplaces', \n",
    "                            'Exter Qual_Ex', 'BsmtFin Type 1_GLQ', 'Exter Qual_Gd', 'Heating QC_Ex', \n",
    "                            'Neighborhood_NridgHt', 'Bsmt Qual_TA', 'BsmtFin SF 1'])"
   ]
  },
  {
   "cell_type": "code",
   "execution_count": 435,
   "metadata": {},
   "outputs": [
    {
     "name": "stdout",
     "output_type": "stream",
     "text": [
      "['Overall Qual']\n"
     ]
    },
    {
     "ename": "KeyError",
     "evalue": "\"None of [Index([('Overall Qual',)], dtype='object')] are in the [columns]\"",
     "output_type": "error",
     "traceback": [
      "\u001b[0;31m---------------------------------------------------------------------------\u001b[0m",
      "\u001b[0;31mKeyError\u001b[0m                                  Traceback (most recent call last)",
      "\u001b[0;32m<ipython-input-435-5ffac265cf43>\u001b[0m in \u001b[0;36m<module>\u001b[0;34m\u001b[0m\n\u001b[1;32m      4\u001b[0m     \u001b[0mselect_features\u001b[0m\u001b[0;34m.\u001b[0m\u001b[0mappend\u001b[0m\u001b[0;34m(\u001b[0m\u001b[0mfeature\u001b[0m\u001b[0;34m)\u001b[0m\u001b[0;34m\u001b[0m\u001b[0;34m\u001b[0m\u001b[0m\n\u001b[1;32m      5\u001b[0m     \u001b[0mprint\u001b[0m\u001b[0;34m(\u001b[0m\u001b[0mselect_features\u001b[0m\u001b[0;34m)\u001b[0m\u001b[0;34m\u001b[0m\u001b[0;34m\u001b[0m\u001b[0m\n\u001b[0;32m----> 6\u001b[0;31m     \u001b[0mrmse\u001b[0m\u001b[0;34m=\u001b[0m\u001b[0mtrain_and_test\u001b[0m\u001b[0;34m(\u001b[0m\u001b[0mdf_dummies\u001b[0m\u001b[0;34m,\u001b[0m\u001b[0;34m[\u001b[0m\u001b[0mselect_features\u001b[0m\u001b[0;34m]\u001b[0m\u001b[0;34m)\u001b[0m\u001b[0;34m\u001b[0m\u001b[0;34m\u001b[0m\u001b[0m\n\u001b[0m\u001b[1;32m      7\u001b[0m     \u001b[0mrmses\u001b[0m\u001b[0;34m.\u001b[0m\u001b[0mappend\u001b[0m\u001b[0;34m(\u001b[0m\u001b[0mrmse\u001b[0m\u001b[0;34m)\u001b[0m\u001b[0;34m\u001b[0m\u001b[0;34m\u001b[0m\u001b[0m\n\u001b[1;32m      8\u001b[0m     \u001b[0mprint\u001b[0m\u001b[0;34m(\u001b[0m\u001b[0;34m'the rmse is '\u001b[0m\u001b[0;34m,\u001b[0m\u001b[0mrmse\u001b[0m\u001b[0;34m)\u001b[0m\u001b[0;34m\u001b[0m\u001b[0;34m\u001b[0m\u001b[0m\n",
      "\u001b[0;32m<ipython-input-380-c4278254b0ce>\u001b[0m in \u001b[0;36mtrain_and_test\u001b[0;34m(df, features, target)\u001b[0m\n\u001b[1;32m      2\u001b[0m \u001b[0;34m\u001b[0m\u001b[0m\n\u001b[1;32m      3\u001b[0m     \u001b[0mlr\u001b[0m\u001b[0;34m=\u001b[0m \u001b[0mLinearRegression\u001b[0m\u001b[0;34m(\u001b[0m\u001b[0;34m)\u001b[0m\u001b[0;34m\u001b[0m\u001b[0;34m\u001b[0m\u001b[0m\n\u001b[0;32m----> 4\u001b[0;31m     \u001b[0mX\u001b[0m \u001b[0;34m=\u001b[0m \u001b[0mdf\u001b[0m\u001b[0;34m[\u001b[0m\u001b[0mfeatures\u001b[0m\u001b[0;34m]\u001b[0m\u001b[0;34m\u001b[0m\u001b[0;34m\u001b[0m\u001b[0m\n\u001b[0m\u001b[1;32m      5\u001b[0m     \u001b[0my\u001b[0m\u001b[0;34m=\u001b[0m \u001b[0mdf\u001b[0m\u001b[0;34m[\u001b[0m\u001b[0mtarget\u001b[0m\u001b[0;34m]\u001b[0m\u001b[0;34m\u001b[0m\u001b[0;34m\u001b[0m\u001b[0m\n\u001b[1;32m      6\u001b[0m     \u001b[0mlr\u001b[0m\u001b[0;34m.\u001b[0m\u001b[0mfit\u001b[0m\u001b[0;34m(\u001b[0m\u001b[0mX\u001b[0m\u001b[0;34m,\u001b[0m\u001b[0my\u001b[0m\u001b[0;34m)\u001b[0m\u001b[0;34m\u001b[0m\u001b[0;34m\u001b[0m\u001b[0m\n",
      "\u001b[0;32m~/anaconda3/lib/python3.7/site-packages/pandas/core/frame.py\u001b[0m in \u001b[0;36m__getitem__\u001b[0;34m(self, key)\u001b[0m\n\u001b[1;32m   2804\u001b[0m             \u001b[0;32mif\u001b[0m \u001b[0mis_iterator\u001b[0m\u001b[0;34m(\u001b[0m\u001b[0mkey\u001b[0m\u001b[0;34m)\u001b[0m\u001b[0;34m:\u001b[0m\u001b[0;34m\u001b[0m\u001b[0;34m\u001b[0m\u001b[0m\n\u001b[1;32m   2805\u001b[0m                 \u001b[0mkey\u001b[0m \u001b[0;34m=\u001b[0m \u001b[0mlist\u001b[0m\u001b[0;34m(\u001b[0m\u001b[0mkey\u001b[0m\u001b[0;34m)\u001b[0m\u001b[0;34m\u001b[0m\u001b[0;34m\u001b[0m\u001b[0m\n\u001b[0;32m-> 2806\u001b[0;31m             \u001b[0mindexer\u001b[0m \u001b[0;34m=\u001b[0m \u001b[0mself\u001b[0m\u001b[0;34m.\u001b[0m\u001b[0mloc\u001b[0m\u001b[0;34m.\u001b[0m\u001b[0m_get_listlike_indexer\u001b[0m\u001b[0;34m(\u001b[0m\u001b[0mkey\u001b[0m\u001b[0;34m,\u001b[0m \u001b[0maxis\u001b[0m\u001b[0;34m=\u001b[0m\u001b[0;36m1\u001b[0m\u001b[0;34m,\u001b[0m \u001b[0mraise_missing\u001b[0m\u001b[0;34m=\u001b[0m\u001b[0;32mTrue\u001b[0m\u001b[0;34m)\u001b[0m\u001b[0;34m[\u001b[0m\u001b[0;36m1\u001b[0m\u001b[0;34m]\u001b[0m\u001b[0;34m\u001b[0m\u001b[0;34m\u001b[0m\u001b[0m\n\u001b[0m\u001b[1;32m   2807\u001b[0m \u001b[0;34m\u001b[0m\u001b[0m\n\u001b[1;32m   2808\u001b[0m         \u001b[0;31m# take() does not accept boolean indexers\u001b[0m\u001b[0;34m\u001b[0m\u001b[0;34m\u001b[0m\u001b[0;34m\u001b[0m\u001b[0m\n",
      "\u001b[0;32m~/anaconda3/lib/python3.7/site-packages/pandas/core/indexing.py\u001b[0m in \u001b[0;36m_get_listlike_indexer\u001b[0;34m(self, key, axis, raise_missing)\u001b[0m\n\u001b[1;32m   1550\u001b[0m \u001b[0;34m\u001b[0m\u001b[0m\n\u001b[1;32m   1551\u001b[0m         self._validate_read_indexer(\n\u001b[0;32m-> 1552\u001b[0;31m             \u001b[0mkeyarr\u001b[0m\u001b[0;34m,\u001b[0m \u001b[0mindexer\u001b[0m\u001b[0;34m,\u001b[0m \u001b[0mo\u001b[0m\u001b[0;34m.\u001b[0m\u001b[0m_get_axis_number\u001b[0m\u001b[0;34m(\u001b[0m\u001b[0maxis\u001b[0m\u001b[0;34m)\u001b[0m\u001b[0;34m,\u001b[0m \u001b[0mraise_missing\u001b[0m\u001b[0;34m=\u001b[0m\u001b[0mraise_missing\u001b[0m\u001b[0;34m\u001b[0m\u001b[0;34m\u001b[0m\u001b[0m\n\u001b[0m\u001b[1;32m   1553\u001b[0m         )\n\u001b[1;32m   1554\u001b[0m         \u001b[0;32mreturn\u001b[0m \u001b[0mkeyarr\u001b[0m\u001b[0;34m,\u001b[0m \u001b[0mindexer\u001b[0m\u001b[0;34m\u001b[0m\u001b[0;34m\u001b[0m\u001b[0m\n",
      "\u001b[0;32m~/anaconda3/lib/python3.7/site-packages/pandas/core/indexing.py\u001b[0m in \u001b[0;36m_validate_read_indexer\u001b[0;34m(self, key, indexer, axis, raise_missing)\u001b[0m\n\u001b[1;32m   1637\u001b[0m             \u001b[0;32mif\u001b[0m \u001b[0mmissing\u001b[0m \u001b[0;34m==\u001b[0m \u001b[0mlen\u001b[0m\u001b[0;34m(\u001b[0m\u001b[0mindexer\u001b[0m\u001b[0;34m)\u001b[0m\u001b[0;34m:\u001b[0m\u001b[0;34m\u001b[0m\u001b[0;34m\u001b[0m\u001b[0m\n\u001b[1;32m   1638\u001b[0m                 \u001b[0maxis_name\u001b[0m \u001b[0;34m=\u001b[0m \u001b[0mself\u001b[0m\u001b[0;34m.\u001b[0m\u001b[0mobj\u001b[0m\u001b[0;34m.\u001b[0m\u001b[0m_get_axis_name\u001b[0m\u001b[0;34m(\u001b[0m\u001b[0maxis\u001b[0m\u001b[0;34m)\u001b[0m\u001b[0;34m\u001b[0m\u001b[0;34m\u001b[0m\u001b[0m\n\u001b[0;32m-> 1639\u001b[0;31m                 \u001b[0;32mraise\u001b[0m \u001b[0mKeyError\u001b[0m\u001b[0;34m(\u001b[0m\u001b[0;34mf\"None of [{key}] are in the [{axis_name}]\"\u001b[0m\u001b[0;34m)\u001b[0m\u001b[0;34m\u001b[0m\u001b[0;34m\u001b[0m\u001b[0m\n\u001b[0m\u001b[1;32m   1640\u001b[0m \u001b[0;34m\u001b[0m\u001b[0m\n\u001b[1;32m   1641\u001b[0m             \u001b[0;31m# We (temporarily) allow for some missing keys with .loc, except in\u001b[0m\u001b[0;34m\u001b[0m\u001b[0;34m\u001b[0m\u001b[0;34m\u001b[0m\u001b[0m\n",
      "\u001b[0;31mKeyError\u001b[0m: \"None of [Index([('Overall Qual',)], dtype='object')] are in the [columns]\""
     ]
    }
   ],
   "source": [
    "rmses=list()\n",
    "select_features=list()\n",
    "for feature in list_cols:\n",
    "    select_features.append(feature)\n",
    "    print(select_features)\n",
    "    rmse=train_and_test(df_dummies,[select_features])\n",
    "    rmses.append(rmse)\n",
    "    print('the rmse is ',rmse)"
   ]
  },
  {
   "cell_type": "code",
   "execution_count": 433,
   "metadata": {},
   "outputs": [
    {
     "data": {
      "text/plain": [
       "<matplotlib.collections.PathCollection at 0x1a37617050>"
      ]
     },
     "execution_count": 433,
     "metadata": {},
     "output_type": "execute_result"
    },
    {
     "data": {
      "image/png": "[encoded data removed]",
      "text/plain": [
       "<Figure size 432x288 with 1 Axes>"
      ]
     },
     "metadata": {
      "needs_background": "light"
     },
     "output_type": "display_data"
    }
   ],
   "source": [
    "plt.scatter(x=range(24),y=rmses)"
   ]
  },
  {
   "cell_type": "code",
   "execution_count": null,
   "metadata": {},
   "outputs": [],
   "source": []
  },
  {
   "cell_type": "code",
   "execution_count": null,
   "metadata": {},
   "outputs": [],
   "source": []
  },
  {
   "cell_type": "code",
   "execution_count": null,
   "metadata": {},
   "outputs": [],
   "source": []
  },
  {
   "cell_type": "code",
   "execution_count": 403,
   "metadata": {
    "scrolled": true
   },
   "outputs": [
    {
     "data": {
      "text/plain": [
       "Index(['BsmtFin SF 1', 'Fireplaces', 'TotRms AbvGrd', 'Mas Vnr Area',\n",
       "       'last_modif_add', 'Full Bath', 'age_when_sold', '1st Flr SF',\n",
       "       'Total Bsmt SF', 'Garage Cars', 'Garage Area', 'Gr Liv Area',\n",
       "       'Overall Qual', 'SalePrice'],\n",
       "      dtype='object')"
      ]
     },
     "execution_count": 403,
     "metadata": {},
     "output_type": "execute_result"
    }
   ],
   "source": [
    "#select columns with high correlation with Sale Price\n",
    "train[numeric_cols].corr().abs()['SalePrice'][train[numeric_cols].corr().abs()['SalePrice'] > 0.4].sort_values().index"
   ]
  },
  {
   "cell_type": "code",
   "execution_count": 442,
   "metadata": {},
   "outputs": [
    {
     "name": "stdout",
     "output_type": "stream",
     "text": [
      "score train set: 0.7281266909206323\n",
      "score test set: 0.7421769821518329\n",
      "rmse: 45152.63616157885\n"
     ]
    }
   ],
   "source": [
    "#test model without dummies\n",
    "a=train_and_test(train,['BsmtFin SF 1', 'Mas Vnr Area', 'Fireplaces',\n",
    "       'last_modif_add', 'Full Bath', 'age_when_sold', '1st Flr SF',\n",
    "       'Total Bsmt SF', 'Garage Cars'\n",
    "                     ])"
   ]
  },
  {
   "cell_type": "code",
   "execution_count": 406,
   "metadata": {},
   "outputs": [
    {
     "data": {
      "text/plain": [
       "34708.852323042986"
      ]
     },
     "execution_count": 406,
     "metadata": {},
     "output_type": "execute_result"
    }
   ],
   "source": [
    "rmses=[]\n",
    "for i in range(25):\n",
    "    select_features=list_cols[i]\n",
    "    rmse=train_and_test(df_dummies,[select_features])\n",
    "    rmses.append(rmse)\n",
    "\n",
    "plt.plot(x=range(24))"
   ]
  },
  {
   "cell_type": "code",
   "execution_count": 407,
   "metadata": {},
   "outputs": [
    {
     "data": {
      "text/plain": [
       "[7.551454937987353e-11,\n",
       " 52217.091289308795,\n",
       " 59093.76159983195,\n",
       " 71606.54180391354,\n",
       " 68791.6108724103,\n",
       " 64581.382609781685,\n",
       " 66191.49878079469]"
      ]
     },
     "execution_count": 407,
     "metadata": {},
     "output_type": "execute_result"
    }
   ],
   "source": [
    "rmses"
   ]
  },
  {
   "cell_type": "code",
   "execution_count": 269,
   "metadata": {},
   "outputs": [
    {
     "data": {
      "text/plain": [
       "<matplotlib.axes._subplots.AxesSubplot at 0x1a371cec90>"
      ]
     },
     "execution_count": 269,
     "metadata": {},
     "output_type": "execute_result"
    },
    {
     "data": {
      "image/png": "[encoded data removed]",
      "text/plain": [
       "<Figure size 1080x1080 with 2 Axes>"
      ]
     },
     "metadata": {
      "needs_background": "light"
     },
     "output_type": "display_data"
    }
   ],
   "source": [
    "ax=plt.figure(figsize=(15,15))\n",
    "\n",
    "corr=train[numeric_cols].corr().abs()\n",
    "\n",
    "mask = np.zeros_like(corr)\n",
    "mask[np.triu_indices_from(mask)] = True\n",
    "\n",
    "sns.heatmap(corr,\n",
    "           linewidths=.5,\n",
    "           mask=mask,\n",
    "           )\n"
   ]
  },
  {
   "cell_type": "code",
   "execution_count": null,
   "metadata": {},
   "outputs": [],
   "source": []
  },
  {
   "cell_type": "code",
   "execution_count": null,
   "metadata": {},
   "outputs": [],
   "source": []
  },
  {
   "cell_type": "markdown",
   "metadata": {},
   "source": [
    "### Categorical features"
   ]
  },
  {
   "cell_type": "code",
   "execution_count": 436,
   "metadata": {},
   "outputs": [],
   "source": [
    "#fix type for categorical columns according to the \n",
    "categorical_cols = [\"PID\", \"MS SubClass\", \"MS Zoning\", \"Street\", \"Alley\", \"Land Contour\", \"Lot Config\", \"Neighborhood\", \n",
    "                    \"Condition 1\", \"Condition 2\", \"Bldg Type\", \"House Style\", \"Roof Style\", \"Roof Matl\", \"Exterior 1st\", \n",
    "                    \"Exterior 2nd\", \"Mas Vnr Type\", \"Foundation\", \"Heating\", \"Central Air\", \"Garage Type\", \n",
    "                    \"Misc Feature\", \"Sale Type\", \"Sale Condition\"]"
   ]
  },
  {
   "cell_type": "markdown",
   "metadata": {},
   "source": [
    "- some categorical columns have been already removed"
   ]
  },
  {
   "cell_type": "code",
   "execution_count": 437,
   "metadata": {},
   "outputs": [],
   "source": [
    "#['Misc Feature', 'Alley', 'Garage Type'] already not there\n",
    "for col in ['Misc Feature', 'Alley', 'Garage Type']:\n",
    "    categorical_cols.remove(col)"
   ]
  },
  {
   "cell_type": "code",
   "execution_count": 438,
   "metadata": {},
   "outputs": [
    {
     "data": {
      "text/plain": [
       "0         Stone\n",
       "1          None\n",
       "2       BrkFace\n",
       "3          None\n",
       "4          None\n",
       "         ...   \n",
       "2925       None\n",
       "2926       None\n",
       "2927       None\n",
       "2928       None\n",
       "2929    BrkFace\n",
       "Name: Mas Vnr Type, Length: 2919, dtype: category\n",
       "Categories (5, object): [BrkCmn, BrkFace, CBlock, None, Stone]"
      ]
     },
     "execution_count": 438,
     "metadata": {},
     "output_type": "execute_result"
    }
   ],
   "source": [
    " raw_sales['Mas Vnr Type'].astype('category')"
   ]
  },
  {
   "cell_type": "code",
   "execution_count": 439,
   "metadata": {},
   "outputs": [],
   "source": [
    "for col in categorical_cols:\n",
    "    raw_sales[col] = raw_sales[col].astype('category')"
   ]
  },
  {
   "cell_type": "code",
   "execution_count": 116,
   "metadata": {
    "scrolled": true
   },
   "outputs": [
    {
     "data": {
      "text/plain": [
       "pandas.core.frame.DataFrame"
      ]
     },
     "execution_count": 116,
     "metadata": {},
     "output_type": "execute_result"
    }
   ],
   "source": [
    "pd.get_dummies(train).corr()['SalePrice'].sort_index"
   ]
  },
  {
   "cell_type": "code",
   "execution_count": null,
   "metadata": {},
   "outputs": [],
   "source": []
  }
 ],
 "metadata": {
  "anaconda-cloud": {},
  "kernelspec": {
   "display_name": "Python 3",
   "language": "python",
   "name": "python3"
  },
  "language_info": {
   "codemirror_mode": {
    "name": "ipython",
    "version": 3
   },
   "file_extension": ".py",
   "mimetype": "text/x-python",
   "name": "python",
   "nbconvert_exporter": "python",
   "pygments_lexer": "ipython3",
   "version": "3.7.6"
  }
 },
 "nbformat": 4,
 "nbformat_minor": 2
}
